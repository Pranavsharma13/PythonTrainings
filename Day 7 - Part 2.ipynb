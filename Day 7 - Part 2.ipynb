{
 "cells": [
  {
   "cell_type": "code",
   "execution_count": 16,
   "id": "6c7d77dd",
   "metadata": {},
   "outputs": [
    {
     "name": "stdout",
     "output_type": "stream",
     "text": [
      "The Max element in the list1 Ignore -ves : True: 559\n",
      "The Max element in the list2 Ignore -ves :True : 30\n",
      "The Max element in the list1 Ignore -ves : False: 559\n",
      "The Max element in the list2 Ignore -ves :False: 30\n"
     ]
    }
   ],
   "source": [
    "#Max In List using 100% OOPS\n",
    "#Time Complexity : O(N)\n",
    "#Space : O(1)\n",
    "\n",
    "class MaxFinder: \n",
    "    #Parent Class Const\n",
    "    def __init__(self, lst):\n",
    "        self._lst = lst\n",
    "        self._max_value = None \n",
    "        \n",
    "        #Start automation here....\n",
    "        self._initialize_max_value()\n",
    "        \n",
    "        \n",
    "    def _initialize_max_value(self):\n",
    "        if self._lst:\n",
    "            self._max_value = self._lst[0]\n",
    "        \n",
    "        return self  \n",
    "    \n",
    "    \n",
    "    def find_max(self):\n",
    "        for num in self._lst:\n",
    "            # calling _update_max() method here from find_max() method \n",
    "            self._update_max(num)\n",
    "        return self \n",
    "    \n",
    "    \n",
    "    def _update_max(self, num):\n",
    "        #checking the condition if current element is greater than _max_value \n",
    "        if num > self._max_value:\n",
    "            self._max_value = num\n",
    "\n",
    "        return self \n",
    "    \n",
    "    \n",
    "    \n",
    "    def get_max(self):\n",
    "        return self._max_value \n",
    "    \n",
    "    \n",
    "    \n",
    "#Child Class    \n",
    "#New optional feature of dealing with Negative Values in the List \n",
    "\n",
    "class AdvancedMaxFinder(MaxFinder):\n",
    "    def __init__(self, lst, ignore_negatives=False):\n",
    "        self.ignore_negatives = ignore_negatives\n",
    "        \n",
    "        #Inheritance \n",
    "        # super() -> parent class ko refer \n",
    "        \n",
    "        super().__init__(lst)\n",
    "        \n",
    "        \n",
    "        \n",
    "    def _initialize_max_value(self):\n",
    "        if self._lst:\n",
    "            self._max_value = float(\"-inf\") if self.ignore_negatives else self._lst[0]\n",
    "        return self \n",
    "    \n",
    "    \n",
    "        \n",
    "       # function overridding? \n",
    "    \n",
    "    def find_max(self):\n",
    "        \n",
    "        for num in self._lst:\n",
    "            if self.ignore_negatives and num < 0:\n",
    "                continue \n",
    "            \n",
    "            self._update_max(num)\n",
    "        return self\n",
    "    \n",
    "\n",
    "    def _update_max(self,num):\n",
    "        super()._update_max(num)\n",
    "        \n",
    "        \n",
    "        \n",
    "    \n",
    "        \n",
    "lst1 = [3,1,4,-1,5,559,2,6,-5]\n",
    "lst2 = [-10,-20,-30,-40,-50,10,20,30]\n",
    "\n",
    "\n",
    "\n",
    "Max_Finder1 = AdvancedMaxFinder(lst1, ignore_negatives = True).find_max()\n",
    "Max_Finder2 = AdvancedMaxFinder(lst2, ignore_negatives = True).find_max()\n",
    "    \n",
    "print(f\"The Max element in the list1 Ignore -ves : True: {Max_Finder1.get_max()}\")\n",
    "print(f\"The Max element in the list2 Ignore -ves :True : {Max_Finder2.get_max()}\")\n",
    "\n",
    "\n",
    "\n",
    "Max_Finder1 = AdvancedMaxFinder(lst1, ignore_negatives = False).find_max()\n",
    "Max_Finder2 = AdvancedMaxFinder(lst2, ignore_negatives = False).find_max()\n",
    "    \n",
    "print(f\"The Max element in the list1 Ignore -ves : False: {Max_Finder1.get_max()}\")\n",
    "print(f\"The Max element in the list2 Ignore -ves :False: {Max_Finder2.get_max()}\")\n"
   ]
  },
  {
   "cell_type": "code",
   "execution_count": 18,
   "id": "012bafd8",
   "metadata": {},
   "outputs": [
    {
     "name": "stdout",
     "output_type": "stream",
     "text": [
      "Error aaya re :  division by zero\n"
     ]
    }
   ],
   "source": [
    "#Basic Sample Codes on Exception \n",
    "\n",
    "\n",
    "try: \n",
    "    ans = 10 / 0 \n",
    "except ZeroDivisionError as e: \n",
    "    print(\"Error aaya re : \", e)\n"
   ]
  },
  {
   "cell_type": "code",
   "execution_count": 28,
   "id": "01a17805",
   "metadata": {},
   "outputs": [
    {
     "name": "stdout",
     "output_type": "stream",
     "text": [
      "Value Sahi se daalo chacha:  invalid literal for int() with base 10: 'abc'\n"
     ]
    }
   ],
   "source": [
    "try: \n",
    "    ans = int('abc') #ValueError\n",
    "    num = [1,2,3]\n",
    "    print(num[4]) # Index Error\n",
    "            \n",
    "except IndexError as e: \n",
    "    print(\"Index galat hai, chacha: \", e)\n",
    "\n",
    "except ValueError as e: \n",
    "    print(\"Value Sahi se daalo chacha: \", e)\n",
    "\n",
    "except Exception as e: \n",
    "    print(\"Something else happened: \", e)\n",
    "    \n",
    "    "
   ]
  },
  {
   "cell_type": "code",
   "execution_count": 34,
   "id": "0d169b51",
   "metadata": {},
   "outputs": [
    {
     "name": "stdout",
     "output_type": "stream",
     "text": [
      "Chacha the number is 0:  division by zero\n"
     ]
    }
   ],
   "source": [
    "try: \n",
    "    ans = 10/0\n",
    "except ZeroDivisionError as e: \n",
    "    print(\"Chacha the number is 0: \", e)\n",
    "else: \n",
    "    print(\"Ans :\", ans)"
   ]
  },
  {
   "cell_type": "code",
   "execution_count": 45,
   "id": "67964ba6",
   "metadata": {},
   "outputs": [
    {
     "name": "stdout",
     "output_type": "stream",
     "text": [
      " [Errno 2] No such file or directory: 'file.txt'\n",
      "Finally ----> \n"
     ]
    }
   ],
   "source": [
    "try: \n",
    "    f = open('file.txt', 'r')\n",
    "except FileNotFoundError as e: \n",
    "    print(\"\",e)\n",
    "finally: \n",
    "    print(\"Finally ----> \")\n",
    "    if 'f' in locals():\n",
    "        f.close()"
   ]
  },
  {
   "cell_type": "code",
   "execution_count": null,
   "id": "1b89e033",
   "metadata": {},
   "outputs": [],
   "source": [
    "# Rasing Exceptions \n",
    "\n"
   ]
  }
 ],
 "metadata": {
  "kernelspec": {
   "display_name": "Python 3 (ipykernel)",
   "language": "python",
   "name": "python3"
  },
  "language_info": {
   "codemirror_mode": {
    "name": "ipython",
    "version": 3
   },
   "file_extension": ".py",
   "mimetype": "text/x-python",
   "name": "python",
   "nbconvert_exporter": "python",
   "pygments_lexer": "ipython3",
   "version": "3.11.4"
  }
 },
 "nbformat": 4,
 "nbformat_minor": 5
}
