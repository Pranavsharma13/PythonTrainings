{
 "cells": [
  {
   "cell_type": "code",
   "execution_count": 16,
   "id": "d341fca2",
   "metadata": {},
   "outputs": [
    {
     "name": "stdout",
     "output_type": "stream",
     "text": [
      "Actual_Number : 59\n",
      "Enter the number between 1 - 100: 40\n",
      "Go Higer\n",
      "Enter the number between 1 - 100: 59\n",
      "You Guessed the Number 59 in 2 attempts\n"
     ]
    }
   ],
   "source": [
    "# Number Guessing Game \n",
    "\n",
    "import random \n",
    "\n",
    "def Start():\n",
    "    global attempts\n",
    "    attempts = 0 \n",
    "    Actual_Number = random.randint(1,100)\n",
    "    #print(f\"Actual_Number : {Actual_Number}\")\n",
    "    \n",
    "    #Function Chaining\n",
    "    take_the_input(Actual_Number, 0)\n",
    "    \n",
    "    \n",
    "def Count_attempts(attempts):\n",
    "    attempts +=1\n",
    "    return attempts\n",
    "        \n",
    "    \n",
    "def take_the_input(Actual_Number, attempts):\n",
    "    guess = int(input(\"Enter the number between 1 - 100: \"))\n",
    "    \n",
    "    #Function Chaining\n",
    "    check_the_Number(Actual_Number, guess, attempts)\n",
    "    \n",
    "    \n",
    "    \n",
    "def check_the_Number(Actual_Number, guess, attempts):\n",
    "    attempts = Count_attempts(attempts)\n",
    "    if guess < Actual_Number:\n",
    "            print(\"Go Higer\")\n",
    "            take_the_input(Actual_Number, attempts)\n",
    "            \n",
    "    elif guess > Actual_Number:\n",
    "            print(\"Go Lower\")\n",
    "            take_the_input(Actual_Number, attempts)\n",
    "            \n",
    "    else:\n",
    "        print(f\"You Guessed the Number {Actual_Number} in {attempts} attempts\")\n",
    "        \n",
    "        \n",
    "Start()      \n",
    "    "
   ]
  },
  {
   "cell_type": "code",
   "execution_count": 17,
   "id": "a2895227",
   "metadata": {},
   "outputs": [
    {
     "name": "stdout",
     "output_type": "stream",
     "text": [
      "Tommy is barking right now !!\n",
      "Tommy is 12 years old\n"
     ]
    }
   ],
   "source": [
    "# OOPS example \n",
    "\n",
    "class Dog:\n",
    "    def __init__(self, name, age):\n",
    "        self.name = name # Initalizing the class members\n",
    "        self.age = age\n",
    "    \n",
    "    def bark(self):\n",
    "        return f\"{self.name} is barking right now !!\" \n",
    "        \n",
    "    def get_age(self):\n",
    "        return f\"{self.name} is {self.age} years old\"\n",
    "        \n",
    "        \n",
    "        \n",
    "Object1 = Dog(\"Tommy\", 12)\n",
    "    \n",
    "    \n",
    "print(Object1.bark())\n",
    "print(Object1.get_age())"
   ]
  },
  {
   "cell_type": "code",
   "execution_count": 18,
   "id": "d4e0f936",
   "metadata": {},
   "outputs": [
    {
     "name": "stdout",
     "output_type": "stream",
     "text": [
      "Tommy is barking right now!\n",
      "Billi says Meow!!\n"
     ]
    }
   ],
   "source": [
    "## Inheritance \n",
    "\n",
    "\n",
    "class Animal:\n",
    "    def __init__(self, name):\n",
    "        self.name = name\n",
    "        #Value of Name is given to the variable for each new object \n",
    "        \n",
    "    def speak(self):\n",
    "        pass \n",
    "\n",
    "    \n",
    "class Dog(Animal):\n",
    "    def speak(self):\n",
    "        return f\"{self.name} is barking right now!\"\n",
    "    \n",
    "\n",
    "class Cat(Animal):\n",
    "    def speak(self):\n",
    "        return f\"{self.name} says Meow!!\"\n",
    "\n",
    "    \n",
    "    \n",
    "    \n",
    "dog = Dog(\"Tommy\")    \n",
    "cat = Cat(\"Billi\")\n",
    "\n",
    "\n",
    "print(dog.speak())\n",
    "\n",
    "print(cat.speak())\n"
   ]
  }
 ],
 "metadata": {
  "kernelspec": {
   "display_name": "Python 3 (ipykernel)",
   "language": "python",
   "name": "python3"
  },
  "language_info": {
   "codemirror_mode": {
    "name": "ipython",
    "version": 3
   },
   "file_extension": ".py",
   "mimetype": "text/x-python",
   "name": "python",
   "nbconvert_exporter": "python",
   "pygments_lexer": "ipython3",
   "version": "3.11.4"
  }
 },
 "nbformat": 4,
 "nbformat_minor": 5
}
