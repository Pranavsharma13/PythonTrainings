{
 "cells": [
  {
   "cell_type": "code",
   "execution_count": 1,
   "id": "fbbbd766",
   "metadata": {},
   "outputs": [
    {
     "data": {
      "text/plain": [
       "True"
      ]
     },
     "execution_count": 1,
     "metadata": {},
     "output_type": "execute_result"
    }
   ],
   "source": [
    "#check if number is a Palindrome \n",
    "\n",
    "def checkIfPalindrome(s):\n",
    "    return s == s[::-1]\n",
    "\n",
    "\n",
    "checkIfPalindrome(\"racecar\")"
   ]
  },
  {
   "cell_type": "code",
   "execution_count": 2,
   "id": "1332e5be",
   "metadata": {},
   "outputs": [
    {
     "data": {
      "text/plain": [
       "False"
      ]
     },
     "execution_count": 2,
     "metadata": {},
     "output_type": "execute_result"
    }
   ],
   "source": [
    "#Using Loooooooooops: \n",
    "\n",
    "def checkIfPalindrome(s): \n",
    "    left, right = 0, len(s)-1\n",
    "    \n",
    "    while left < right:\n",
    "        if s[left] != s[right]:\n",
    "            return False\n",
    "\n",
    "        left = left+1             # incrementing the Left counter\n",
    "        right = right -1          # Decrementing right one\n",
    "    return True\n",
    "\n",
    "\n",
    "checkIfPalindrome(\"racejhasdgjhasdgjhasgjhagsiywqyeiuqyerypuqoqwqwecar\")"
   ]
  },
  {
   "cell_type": "code",
   "execution_count": 3,
   "id": "6c267456",
   "metadata": {},
   "outputs": [
    {
     "data": {
      "text/plain": [
       "12399945"
      ]
     },
     "execution_count": 3,
     "metadata": {},
     "output_type": "execute_result"
    }
   ],
   "source": [
    "# Reverse a number\n",
    "\n",
    "\n",
    "def reverseTheNumber(n):\n",
    "    \n",
    "    Final_Reversed_Number=0\n",
    "    while n> 0:\n",
    "        rem = n%10\n",
    "        Final_Reversed_Number = (Final_Reversed_Number*10) + rem\n",
    "        n = n//10\n",
    "        \n",
    "    return Final_Reversed_Number\n",
    "\n",
    "\n",
    "\n",
    "reverseTheNumber(54999321)"
   ]
  }
 ],
 "metadata": {
  "kernelspec": {
   "display_name": "Python 3 (ipykernel)",
   "language": "python",
   "name": "python3"
  },
  "language_info": {
   "codemirror_mode": {
    "name": "ipython",
    "version": 3
   },
   "file_extension": ".py",
   "mimetype": "text/x-python",
   "name": "python",
   "nbconvert_exporter": "python",
   "pygments_lexer": "ipython3",
   "version": "3.11.4"
  }
 },
 "nbformat": 4,
 "nbformat_minor": 5
}
