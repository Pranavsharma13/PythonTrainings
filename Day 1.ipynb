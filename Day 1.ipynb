{
 "cells": [
  {
   "cell_type": "code",
   "execution_count": 1,
   "id": "d45e8b70",
   "metadata": {},
   "outputs": [
    {
     "name": "stdout",
     "output_type": "stream",
     "text": [
      "Enter 1st number10\n",
      "10\n",
      "2nd number? 40\n",
      "40\n",
      "======\n",
      "10 40\n"
     ]
    }
   ],
   "source": [
    "a = int(input(\"Enter 1st number\"))\n",
    "print(a)\n",
    "\n",
    "b = int(input(\"2nd number? \"))\n",
    "print(b)\n",
    "\n",
    "print(\"======\")\n",
    "print(a,b)\n"
   ]
  },
  {
   "cell_type": "code",
   "execution_count": 2,
   "id": "3c3ccc28",
   "metadata": {},
   "outputs": [
    {
     "name": "stdout",
     "output_type": "stream",
     "text": [
      "Pranav Sharma\n",
      "Welcome, Mr. Pranav Sharma. Hogya ab bye! \n"
     ]
    }
   ],
   "source": [
    "name = \"Pranav Sharma\"\n",
    "\n",
    "\n",
    "print(name)\n",
    "\n",
    "print(f\"Welcome, Mr. {name}. Hogya ab bye! \")\n",
    "\n",
    "\n"
   ]
  },
  {
   "cell_type": "code",
   "execution_count": 3,
   "id": "6fbececb",
   "metadata": {},
   "outputs": [
    {
     "ename": "SyntaxError",
     "evalue": "invalid syntax (3318764708.py, line 12)",
     "output_type": "error",
     "traceback": [
      "\u001b[0;36m  Cell \u001b[0;32mIn[3], line 12\u001b[0;36m\u001b[0m\n\u001b[0;31m    print(a === a)\u001b[0m\n\u001b[0m              ^\u001b[0m\n\u001b[0;31mSyntaxError\u001b[0m\u001b[0;31m:\u001b[0m invalid syntax\n"
     ]
    }
   ],
   "source": [
    "a = 5\n",
    "print(a)\n",
    "\n",
    "a = 63\n",
    "print(a)\n",
    "\n",
    "\n",
    "ans = a*100\n",
    "print(ans)\n",
    "\n",
    "\n",
    "print(a === a)"
   ]
  },
  {
   "cell_type": "code",
   "execution_count": 4,
   "id": "23fb03c3",
   "metadata": {},
   "outputs": [
    {
     "name": "stdout",
     "output_type": "stream",
     "text": [
      "5 is the smaller number\n",
      "===========\n"
     ]
    }
   ],
   "source": [
    "x = 10 \n",
    "\n",
    "if x>5:\n",
    "    print(\"5 is the smaller number\")\n",
    "elif x==10:\n",
    "    print(\"the number is 10\")\n",
    "else:\n",
    "    print(\"10 is the bigger number\")\n",
    "    \n",
    "    \n",
    "print(\"===========\")"
   ]
  },
  {
   "cell_type": "code",
   "execution_count": 5,
   "id": "bc976270",
   "metadata": {},
   "outputs": [
    {
     "name": "stdout",
     "output_type": "stream",
     "text": [
      "the number is 10\n"
     ]
    }
   ],
   "source": [
    "x = 10 \n",
    "\n",
    "if x<5:\n",
    "    print(\"5 is the smaller number\")\n",
    "elif x==10:\n",
    "    print(\"the number is 10\")\n",
    "else:\n",
    "    print(\"10 is the bigger number\")"
   ]
  }
 ],
 "metadata": {
  "kernelspec": {
   "display_name": "Python 3 (ipykernel)",
   "language": "python",
   "name": "python3"
  },
  "language_info": {
   "codemirror_mode": {
    "name": "ipython",
    "version": 3
   },
   "file_extension": ".py",
   "mimetype": "text/x-python",
   "name": "python",
   "nbconvert_exporter": "python",
   "pygments_lexer": "ipython3",
   "version": "3.11.4"
  }
 },
 "nbformat": 4,
 "nbformat_minor": 5
}
