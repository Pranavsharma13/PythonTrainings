{
 "cells": [
  {
   "cell_type": "code",
   "execution_count": 5,
   "id": "9a0521b1",
   "metadata": {},
   "outputs": [
    {
     "name": "stdout",
     "output_type": "stream",
     "text": [
      "Shortest Path from Node 1 to Node 1: 1, Distance: 0\n",
      "Shortest Path from Node 1 to Node 2: 1 -> 2, Distance: 2\n",
      "Shortest Path from Node 1 to Node 3: 1 -> 2 -> 3, Distance: 3\n",
      "Shortest Path from Node 1 to Node 4: 1 -> 2 -> 3 -> 5 -> 4, Distance: 8\n",
      "Shortest Path from Node 1 to Node 5: 1 -> 2 -> 3 -> 5, Distance: 6\n",
      "Shortest Path from Node 1 to Node 6: 1 -> 2 -> 3 -> 5 -> 4 -> 6, Distance: 9\n"
     ]
    }
   ],
   "source": [
    "import heapq\n",
    "\n",
    "def create_graph(num_nodes, edges):\n",
    "    graph = [[float('inf') for _ in range(num_nodes)] for _ in range(num_nodes)]\n",
    "    \n",
    "    for node1, node2, weight in edges:\n",
    "        graph[node1 - 1][node2 - 1] = weight\n",
    "    \n",
    "    return graph    \n",
    "\n",
    "def dijkstra(graph, start_node):\n",
    "    num_nodes = len(graph)\n",
    "    distances = [float(\"inf\")] * num_nodes\n",
    "    distances[start_node] = 0 \n",
    "    priority_queue = [(0, start_node)]\n",
    "    \n",
    "    track = [-1] * num_nodes\n",
    "    \n",
    "    while priority_queue:\n",
    "        current_distance, current_node = heapq.heappop(priority_queue)\n",
    "        \n",
    "        for neighbor in range(num_nodes):\n",
    "            weight = graph[current_node][neighbor]\n",
    "            if weight != float('inf'):\n",
    "                hypo_distance = current_distance + weight\n",
    "                \n",
    "                if hypo_distance < distances[neighbor]:\n",
    "                    distances[neighbor] = hypo_distance\n",
    "                    track[neighbor] = current_node\n",
    "                    heapq.heappush(priority_queue, (hypo_distance, neighbor))\n",
    "    \n",
    "    return distances, track\n",
    "\n",
    "def get_path(prev_nodes, target_node):\n",
    "    path = []\n",
    "    \n",
    "    while target_node != -1:\n",
    "        path.append(target_node + 1)\n",
    "        target_node = prev_nodes[target_node]\n",
    "    \n",
    "    path.reverse()\n",
    "    return path\n",
    "\n",
    "def main():\n",
    "    num_nodes = 6 \n",
    "    edges = [\n",
    "        (1, 2, 2), \n",
    "        (2, 3, 1),\n",
    "        (1, 3, 4),\n",
    "        (3, 5, 3),\n",
    "        (5, 4, 2), \n",
    "        (4, 6, 1),\n",
    "        (5, 6, 5)\n",
    "    ]\n",
    "    \n",
    "    graph = create_graph(num_nodes, edges)\n",
    "    start_node = 0 \n",
    "    \n",
    "    distances, track = dijkstra(graph, start_node)\n",
    "    \n",
    "    for target_node in range(num_nodes):\n",
    "        path = get_path(track, target_node)\n",
    "        print(f\"Shortest Path from Node 1 to Node {target_node + 1}: {' -> '.join(map(str, path))}, Distance: {distances[target_node]}\")\n",
    "\n",
    "if __name__ == \"__main__\":\n",
    "    main()\n"
   ]
  }
 ],
 "metadata": {
  "kernelspec": {
   "display_name": "Python 3 (ipykernel)",
   "language": "python",
   "name": "python3"
  },
  "language_info": {
   "codemirror_mode": {
    "name": "ipython",
    "version": 3
   },
   "file_extension": ".py",
   "mimetype": "text/x-python",
   "name": "python",
   "nbconvert_exporter": "python",
   "pygments_lexer": "ipython3",
   "version": "3.11.4"
  }
 },
 "nbformat": 4,
 "nbformat_minor": 5
}
