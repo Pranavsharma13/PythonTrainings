{
 "cells": [
  {
   "cell_type": "code",
   "execution_count": 15,
   "id": "d341fca2",
   "metadata": {},
   "outputs": [
    {
     "name": "stdout",
     "output_type": "stream",
     "text": [
      "Enter the number between 1 - 100: 35\n",
      "Go Lower\n",
      "Enter the number between 1 - 100: 30\n",
      "Go Lower\n",
      "Enter the number between 1 - 100: 29\n",
      "Go Lower\n",
      "Enter the number between 1 - 100: 25\n",
      "Go Lower\n",
      "Enter the number between 1 - 100: 10\n",
      "Go Lower\n",
      "Enter the number between 1 - 100: 5\n",
      "Go Lower\n",
      "Enter the number between 1 - 100: 1\n",
      "Go Higer\n",
      "Enter the number between 1 - 100: 2\n",
      "Go Higer\n",
      "Enter the number between 1 - 100: 3\n",
      "You Guessed the Number 3 in 9 attempts\n"
     ]
    }
   ],
   "source": [
    "# Number Guessing Game \n",
    "\n",
    "import random \n",
    "\n",
    "def Start():\n",
    "    Actual_Number = random.randint(1,100)\n",
    "    #print(f\"Actual_Number : {Actual_Number}\")\n",
    "    \n",
    "    #Function Chaining\n",
    "    take_the_input(Actual_Number, 0)\n",
    "    \n",
    "    \n",
    "def Count_attempts(attempts):\n",
    "    attempts +=1\n",
    "    return attempts\n",
    "        \n",
    "    \n",
    "def take_the_input(Actual_Number, attempts):\n",
    "    guess = int(input(\"Enter the number between 1 - 100: \"))\n",
    "    \n",
    "    #Function Chaining\n",
    "    check_the_Number(Actual_Number, guess, attempts)\n",
    "    \n",
    "    \n",
    "    \n",
    "def check_the_Number(Actual_Number, guess, attempts):\n",
    "    attempts = Count_attempts(attempts)\n",
    "    if guess < Actual_Number:\n",
    "            print(\"Go Higer\")\n",
    "            take_the_input(Actual_Number, attempts)\n",
    "            \n",
    "    elif guess > Actual_Number:\n",
    "            print(\"Go Lower\")\n",
    "            take_the_input(Actual_Number, attempts)\n",
    "            \n",
    "    else:\n",
    "        print(f\"You Guessed the Number {Actual_Number} in {attempts} attempts\")\n",
    "        \n",
    "        \n",
    "Start()      \n",
    "    "
   ]
  }
 ],
 "metadata": {
  "kernelspec": {
   "display_name": "Python 3 (ipykernel)",
   "language": "python",
   "name": "python3"
  },
  "language_info": {
   "codemirror_mode": {
    "name": "ipython",
    "version": 3
   },
   "file_extension": ".py",
   "mimetype": "text/x-python",
   "name": "python",
   "nbconvert_exporter": "python",
   "pygments_lexer": "ipython3",
   "version": "3.11.4"
  }
 },
 "nbformat": 4,
 "nbformat_minor": 5
}
