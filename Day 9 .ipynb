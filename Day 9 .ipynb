{
 "cells": [
  {
   "cell_type": "code",
   "execution_count": 7,
   "id": "92783191",
   "metadata": {},
   "outputs": [
    {
     "name": "stdout",
     "output_type": "stream",
     "text": [
      " ----- [1, 1, 0, 0, 0, 0] ----- \n",
      "Before For Loop \n",
      " ---- \n",
      " ----- [1, 1, 2, 0, 0, 0] ----- \n",
      " ----- [1, 1, 2, 3, 0, 0] ----- \n",
      " ----- [1, 1, 2, 3, 5, 0] ----- \n",
      " ----- [1, 1, 2, 3, 5, 8] ----- \n"
     ]
    },
    {
     "data": {
      "text/plain": [
       "8"
      ]
     },
     "execution_count": 7,
     "metadata": {},
     "output_type": "execute_result"
    }
   ],
   "source": [
    "# Leet code : Q.70 - Climbing Stairs\n",
    "\n",
    "\n",
    "def ClimbStairs(n):\n",
    "    if n == 0:\n",
    "        return 1\n",
    "    if n == 1:\n",
    "        return 1\n",
    "    \n",
    "    #Creting and setting the list to 0 at the start\n",
    "    dp = [0] * (n+1)\n",
    "    \n",
    "    #Step 1\n",
    "    dp[0] = 1\n",
    "    \n",
    "    #Step 2 \n",
    "    dp[1] = 1 \n",
    "    \n",
    "    print(f\" ----- {dp} ----- \")\n",
    "    print(\"Before For Loop \\n ---- \")\n",
    "    \n",
    "    for i in range(2, n+1):\n",
    "        dp[i] = dp[i-1] + dp[i-2]\n",
    "        \n",
    "        print(f\" ----- {dp} ----- \")\n",
    "    \n",
    "    #This the last element: The # of ways we can reach N stairs\n",
    "    return dp[n]\n",
    "\n",
    "\n",
    "ClimbStairs(5)\n"
   ]
  },
  {
   "cell_type": "code",
   "execution_count": 12,
   "id": "e9cf0f79",
   "metadata": {},
   "outputs": [
    {
     "name": "stdout",
     "output_type": "stream",
     "text": [
      "1 -> 2 -> 3 -> 4 -> None\n",
      "1 -> 2 -> 3 -> 4 -> 5 -> None\n",
      "1 -> 2 -> 3 -> 4 -> 5 -> 6 -> None\n",
      "60 -> 1 -> 2 -> 3 -> 4 -> 5 -> 6 -> None\n"
     ]
    }
   ],
   "source": [
    "# Linked List in Python \n",
    "\n",
    "class Node:\n",
    "    def __init__(self,data):\n",
    "        self.data = data \n",
    "        self.next = None\n",
    "        \n",
    "        \n",
    "        \n",
    "class SinglyLinkedList:\n",
    "    def __init__(self):\n",
    "        self.head = None\n",
    "        \n",
    "    \n",
    "    def append(self, data):\n",
    "\n",
    "        #creating new node\n",
    "        new_node = Node(data)\n",
    "        \n",
    "        #Cheking if LinkedList is empty if yes then Making the new_node as Head\n",
    "        if not self.head:\n",
    "            self.head = new_node\n",
    "            return\n",
    "\n",
    "        last = self.head\n",
    "        while last.next:\n",
    "            last = last.next\n",
    "        last.next = new_node\n",
    " \n",
    "\n",
    "    def prepend(self,data):\n",
    "        \n",
    "        #creating new node\n",
    "        new_node = Node(data)\n",
    "        \n",
    "        \n",
    "        new_node.next = self.head\n",
    "        \n",
    "        self.head = new_node\n",
    "        \n",
    "        \n",
    "        \n",
    "    def print_list(self):\n",
    "        current = self.head\n",
    "        \n",
    "        while current: \n",
    "            print(current.data, end=\" -> \")\n",
    "            current = current.next\n",
    "            \n",
    "        print(None)\n",
    "        \n",
    "        \n",
    "        \n",
    "        \n",
    "  \n",
    "\n",
    "\n",
    "Mylist = SinglyLinkedList()\n",
    "\n",
    "\n",
    "Mylist.append(1)\n",
    "Mylist.append(2)\n",
    "Mylist.append(3)\n",
    "Mylist.append(4)\n",
    "\n",
    "Mylist.print_list()\n",
    "\n",
    "Mylist.append(5)\n",
    "\n",
    "Mylist.print_list()\n",
    "\n",
    "Mylist.append(6)\n",
    "\n",
    "Mylist.print_list()\n",
    "\n",
    "Mylist.prepend(60)\n",
    "\n",
    "Mylist.print_list()\n",
    "\n",
    "\n"
   ]
  },
  {
   "cell_type": "code",
   "execution_count": null,
   "id": "7c146f75",
   "metadata": {},
   "outputs": [],
   "source": []
  }
 ],
 "metadata": {
  "kernelspec": {
   "display_name": "Python 3 (ipykernel)",
   "language": "python",
   "name": "python3"
  },
  "language_info": {
   "codemirror_mode": {
    "name": "ipython",
    "version": 3
   },
   "file_extension": ".py",
   "mimetype": "text/x-python",
   "name": "python",
   "nbconvert_exporter": "python",
   "pygments_lexer": "ipython3",
   "version": "3.11.4"
  }
 },
 "nbformat": 4,
 "nbformat_minor": 5
}
