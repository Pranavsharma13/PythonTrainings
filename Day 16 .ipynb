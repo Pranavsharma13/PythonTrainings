{
 "cells": [
  {
   "cell_type": "code",
   "execution_count": 16,
   "id": "195f72a8",
   "metadata": {},
   "outputs": [
    {
     "name": "stdout",
     "output_type": "stream",
     "text": [
      "['ad', 'ae', 'af', 'bd', 'be', 'bf', 'cd', 'ce', 'cf']\n",
      "[]\n",
      "['a', 'b', 'c']\n"
     ]
    }
   ],
   "source": [
    "#LetterCombination Leet Code : Q17\n",
    "\n",
    "\n",
    "\n",
    "\n",
    "def LetterCombinations(digits):\n",
    "    \n",
    "    if not digits:\n",
    "        return []\n",
    "    \n",
    "    \n",
    "    Char_Dictonary = {\"2\": \"abc\", \"3\": \"def\", \"4\": \"ghi\", \"5\":\"jkl\",\n",
    "                    \"6\": \"mno\", \"7\":\"pqrs\", \"8\": \"tuv\", \"9\": \"wxyz\"}\n",
    "    \n",
    "    result = []\n",
    "    \n",
    "    \n",
    "    def backTrack(index, current_combination):\n",
    "\n",
    "        #Best condition \n",
    "        if index == len(digits):\n",
    "            return result.append(\"\".join(current_combination))\n",
    "        \n",
    "        possible_letters = Char_Dictonary[digits[index]]\n",
    "        \n",
    "        \n",
    "        for Current_letter_i in possible_letters:\n",
    "\n",
    "            current_combination.append(Current_letter_i)\n",
    "            backTrack(index+1, current_combination)\n",
    "            \n",
    "            current_combination.pop()\n",
    "            \n",
    "            \n",
    "        \n",
    "    backTrack(0, [])\n",
    "    \n",
    "    return result \n",
    "\n",
    "\n",
    "print(LetterCombinations(\"23\"))\n",
    "        \n",
    "print(LetterCombinations(\"\"))\n",
    "\n",
    "print(LetterCombinations(\"2\"))\n",
    "\n",
    "\n"
   ]
  }
 ],
 "metadata": {
  "kernelspec": {
   "display_name": "Python 3 (ipykernel)",
   "language": "python",
   "name": "python3"
  },
  "language_info": {
   "codemirror_mode": {
    "name": "ipython",
    "version": 3
   },
   "file_extension": ".py",
   "mimetype": "text/x-python",
   "name": "python",
   "nbconvert_exporter": "python",
   "pygments_lexer": "ipython3",
   "version": "3.11.4"
  }
 },
 "nbformat": 4,
 "nbformat_minor": 5
}
