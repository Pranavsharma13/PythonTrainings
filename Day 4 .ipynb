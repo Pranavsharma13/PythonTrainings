{
 "cells": [
  {
   "cell_type": "code",
   "execution_count": 1,
   "id": "4edcecb6",
   "metadata": {},
   "outputs": [
    {
     "name": "stdout",
     "output_type": "stream",
     "text": [
      "[1, 2, 'e', 4.6123, 'p', 100]\n",
      "[1, 2, 'e', 4.6123, 'p', 100, 'Python']\n"
     ]
    }
   ],
   "source": [
    "#List Examples \n",
    "\n",
    "\n",
    "myList = [1,2,'e',4.6123,'p',100]\n",
    "\n",
    "\n",
    "print(myList)\n",
    "\n",
    "myList.append(\"Python\")\n",
    "\n",
    "print(myList)"
   ]
  },
  {
   "cell_type": "code",
   "execution_count": 2,
   "id": "68861c77",
   "metadata": {},
   "outputs": [
    {
     "name": "stdout",
     "output_type": "stream",
     "text": [
      "[1, 4, 9, 16, 25, 36, 49, 64, 81, 100, 121, 144, 169, 196, 225, 256, 289, 324, 361, 400]\n"
     ]
    }
   ],
   "source": [
    "#Using List Comprehensions print sq of all the numbers from 1 to 20\n",
    "\n",
    "myList = [x**2 for x in range(1,21)]          \n",
    "\n",
    "print(myList)\n"
   ]
  },
  {
   "cell_type": "code",
   "execution_count": 3,
   "id": "0286ad86",
   "metadata": {},
   "outputs": [
    {
     "name": "stdout",
     "output_type": "stream",
     "text": [
      "[4, 16, 36, 64, 100, 144, 196, 256, 324, 400]\n"
     ]
    }
   ],
   "source": [
    "#Using list Comp. Print sq of any even number \n",
    "\n",
    "\n",
    "myList = [i**2 for i in range(1,21) if i %2==0]\n",
    "\n",
    "\n",
    "print(myList)\n"
   ]
  },
  {
   "cell_type": "code",
   "execution_count": 4,
   "id": "7032e134",
   "metadata": {},
   "outputs": [
    {
     "name": "stdout",
     "output_type": "stream",
     "text": [
      "{1: 1, 2: 4, 3: 9, 4: 16, 5: 25, 6: 36, 7: 49, 8: 64, 9: 81, 10: 100, 11: 121, 12: 144, 13: 169, 14: 196, 15: 225, 16: 256, 17: 289, 18: 324, 19: 361, 20: 400}\n"
     ]
    }
   ],
   "source": [
    "#Using Dictionary Comprehensions priting the sq of numbers from 1-20\n",
    "\n",
    "squares = {x: x**2 for x in range(1,21)}\n",
    "\n",
    "\n",
    "print(squares)\n"
   ]
  },
  {
   "cell_type": "code",
   "execution_count": 5,
   "id": "39dc5772",
   "metadata": {},
   "outputs": [
    {
     "name": "stdout",
     "output_type": "stream",
     "text": [
      "{2: 4, 4: 16, 6: 36, 8: 64, 10: 100, 12: 144, 14: 196, 16: 256, 18: 324, 20: 400}\n"
     ]
    }
   ],
   "source": [
    "#Using Dictionary Comp. Print sq of any even number \n",
    "\n",
    "\n",
    "squares = {x: x**2 for x in range(1,21) if x%2==0}\n",
    "\n",
    "print(squares)"
   ]
  },
  {
   "cell_type": "code",
   "execution_count": 6,
   "id": "fdd0fe5f",
   "metadata": {},
   "outputs": [
    {
     "name": "stdout",
     "output_type": "stream",
     "text": [
      "50\n"
     ]
    }
   ],
   "source": [
    "#Addition of 2 numbers using Lambda Function \n",
    "\n",
    "\n",
    "\n",
    "add = lambda x, y: x+y    # 1 line function. Anonymous functions \n",
    "\n",
    "print(add(10,40))\n"
   ]
  },
  {
   "cell_type": "code",
   "execution_count": 12,
   "id": "41d610a2",
   "metadata": {},
   "outputs": [
    {
     "name": "stdout",
     "output_type": "stream",
     "text": [
      "[5, 7, 9]\n"
     ]
    }
   ],
   "source": [
    "#Example of map function \n",
    "\n",
    "x = [1,2,3]\n",
    "y = [4,5,6]\n",
    "\n",
    "\n",
    "def add(x,y):\n",
    "    return x+y\n",
    "\n",
    "\n",
    "ans = map(add,x,y)\n",
    "\n",
    "print(list(ans)) # Converting the Ans from Map object (which we get after using Map() to List)\n"
   ]
  },
  {
   "cell_type": "code",
   "execution_count": 40,
   "id": "d49e4ba1",
   "metadata": {},
   "outputs": [
    {
     "name": "stdout",
     "output_type": "stream",
     "text": [
      "Average Temp in C =  {'LivingRoom': 21.75, 'Kitchen': 24.25, 'Bedroom': 18.0, 'Bathroom': 25.75}\n",
      "-----\n",
      "Average Temp in F of LivingRoom =  71.15\n",
      "-----\n",
      "Filtered Rooms with Temp > 22:  {'LivingRoom': [(22.5, 45, True)], 'Kitchen': [(24, 50, False), (24.5, 43, False)], 'Bedroom': [], 'Bathroom': [(23.5, 70, False), (28, 65, False)]}\n",
      "-----\n",
      "All Unique Sensors {('LivingRoom', 22.5, 45, True), ('LivingRoom', 21.0, 42, True), ('Bedroom', 16, 35, True), ('Bedroom', 20, 60, True), ('Kitchen', 24, 50, False), ('Kitchen', 24.5, 43, False), ('Bathroom', 23.5, 70, False), ('Bathroom', 28, 65, False)}\n",
      "-----\n",
      "List of Rooms with Light On:  ['LivingRoom', 'Bedroom']\n"
     ]
    }
   ],
   "source": [
    "# Suppose Temprature Sensor in Home. Records the Temp(c), Humidity(%) and If Lights are on or Off (True/False)\n",
    "\n",
    "sensor_data= [('LivingRoom', 22.5, 45, True),\n",
    "              ('Kitchen', 24, 50, False),\n",
    "              ('Bedroom', 20, 60, True),\n",
    "              ('Bathroom', 23.5, 70, False),\n",
    "              \n",
    "              ('LivingRoom', 21.0, 42, True),\n",
    "              ('Kitchen', 24.5,43, False),\n",
    "              ('Bedroom', 16, 35, True),\n",
    "              ('Bathroom', 28, 65, False),\n",
    "             ]\n",
    "\n",
    "room = {}\n",
    "\n",
    "for data in sensor_data:\n",
    "    room_name, temperature, humidity, lights_on = data\n",
    "   # key        Value         value    value\n",
    "    \n",
    "    if room_name not in room:\n",
    "        room[room_name] = []\n",
    "    #  dict_name [key]\n",
    "    room[room_name].append((temperature, humidity, lights_on))\n",
    "    \n",
    "    \n",
    "# ----- Insight : 1 ------\n",
    "\n",
    "# Calculate the Avg temp\n",
    "def calculateAvgTemp(room_data):\n",
    "    \n",
    "    Temp = map(lambda x: x[0], room_data)\n",
    "    return sum(Temp)/len(room_data)\n",
    "\n",
    "    # room.Items() is giving all the key value pairs in the room dict\n",
    "    \n",
    "avg_temp  = {key: calculateAvgTemp(data) for key, data in room.items()} \n",
    "    \n",
    "    \n",
    "    \n",
    "# ----- Insight : 2 ------\n",
    "# Add a filter according to the rooms (LivingRoom, Bedroom .... etc)\n",
    "\n",
    "def filterByRooms(My_room, limit):\n",
    "    return {key: list(filter(lambda x: x[0] > limit, data)) for key, data in room.items()}\n",
    "\n",
    "Filtered_rooms = filterByRooms(room, 22)\n",
    "\n",
    "\n",
    "\n",
    "# ----- Insight : 3 ------\n",
    "\n",
    "# Show all the unique sensors\n",
    "unique_sensors = set(sensor_data)\n",
    "\n",
    "\n",
    "# ----- Insight : 4 ------\n",
    "\n",
    "#Converting C to F \n",
    "to_fahrenheit = lambda c: (c*(9/5))+32\n",
    "\n",
    "\n",
    "\n",
    "# ---- Insight : 5 ------ \n",
    "\n",
    "# List of activeRoom (OccupiedRooms) using list comphrensions \n",
    "\n",
    "                #exp    # itert.                   # cond\n",
    "active_rooms = [key for key, data in room.items() if any(map(lambda x: x[2], data))]\n",
    "\n",
    "\n",
    "\n",
    "\n",
    "print(\"Average Temp in C = \", avg_temp)\n",
    "print(\"-----\")\n",
    "print(\"Average Temp in F of LivingRoom = \", to_fahrenheit(avg_temp[\"LivingRoom\"]))\n",
    "print(\"-----\")\n",
    "print(\"Filtered Rooms with Temp > 22: \", Filtered_rooms)\n",
    "print(\"-----\")\n",
    "print(\"All Unique Sensors\",unique_sensors)\n",
    "print(\"-----\")\n",
    "print(\"List of Rooms with Light On: \", active_rooms)\n"
   ]
  }
 ],
 "metadata": {
  "kernelspec": {
   "display_name": "Python 3 (ipykernel)",
   "language": "python",
   "name": "python3"
  },
  "language_info": {
   "codemirror_mode": {
    "name": "ipython",
    "version": 3
   },
   "file_extension": ".py",
   "mimetype": "text/x-python",
   "name": "python",
   "nbconvert_exporter": "python",
   "pygments_lexer": "ipython3",
   "version": "3.11.4"
  }
 },
 "nbformat": 4,
 "nbformat_minor": 5
}
