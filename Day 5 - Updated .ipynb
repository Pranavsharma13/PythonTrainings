{
 "cells": [
  {
   "cell_type": "code",
   "execution_count": 4,
   "id": "0ebfa709",
   "metadata": {},
   "outputs": [
    {
     "name": "stdout",
     "output_type": "stream",
     "text": [
      "--------------------------\n",
      "Commands: go[direction], get[item]\n",
      "Type 'quit' to exit the game\n",
      "--------------------------\n",
      "You are in the Hall\n",
      "Inventory: []\n",
      "You see a key\n",
      "--------------------------\n",
      "> get key\n",
      "key taken. !!! Continue !!\n",
      "--------------------------\n",
      "You are in the Hall\n",
      "Inventory: ['key']\n",
      "--------------------------\n",
      "> go east\n",
      "--------------------------\n",
      "You are in the Dining Room\n",
      "Inventory: ['key']\n",
      "You see a potion\n",
      "--------------------------\n",
      "> get potion\n",
      "potion taken. !!! Continue !!\n",
      "--------------------------\n",
      "You are in the Dining Room\n",
      "Inventory: ['key', 'potion']\n",
      "--------------------------\n",
      "> go south\n",
      "Congrats. You are in the Garden, You won. Get lost now !!! \n"
     ]
    }
   ],
   "source": [
    "#TextBased Game \n",
    "\n",
    "def show_instructions():\n",
    "    print(\"--------------------------\")\n",
    "    print(\"Commands: go[direction], get[item]\")\n",
    "    print(\"Type 'quit' to exit the game\")\n",
    "    \n",
    "\n",
    "def show_status(room, inventory):\n",
    "    print(\"--------------------------\")\n",
    "    print(f\"You are in the {room['name']}\")\n",
    "    print(f\"Inventory: {inventory}\")\n",
    "    \n",
    "    if \"item\" in room:\n",
    "        print(f\"You see a {room['item']}\")\n",
    "    print(\"--------------------------\")\n",
    "\n",
    "    \n",
    "\n",
    "room = {\n",
    "    'Hall': {'name': 'Hall','south': 'Kitchen','east' : 'Dining Room', 'item' : 'key'}, \n",
    "    'Kitchen' : {'name': 'Kitchen', 'north': 'Hall', 'item': 'Monster'}, \n",
    "    'Dining Room' : {'name': 'Dining Room', 'west': 'Hall', 'south': 'Garden', 'item': 'potion'},\n",
    "    'Garden' : {'name': 'Garden', 'north' : 'Dining Room'}\n",
    "    \n",
    "}\n",
    "\n",
    "\n",
    "\n",
    "def play_game():\n",
    "    current_room = room['Hall']\n",
    "    inventory = []\n",
    "    \n",
    "    \n",
    "    show_instructions()\n",
    "    \n",
    "    while True:\n",
    "        show_status(current_room, inventory)\n",
    "        \n",
    "        move = input(\"> \").lower().split()\n",
    "        \n",
    "        if move[0] == 'quit':\n",
    "            break\n",
    "        \n",
    "        if move[0] == 'go':\n",
    "            direction = move[1]\n",
    "            if direction in current_room:\n",
    "                current_room = room[current_room[direction]]\n",
    "            else:\n",
    "                print(\"You cannot go that way. Back up !!\")\n",
    "            \n",
    "        if move[0] == 'get':\n",
    "            item = move[1]\n",
    "            if 'item' in current_room and item == current_room['item']:\n",
    "                inventory.append(item)\n",
    "                print(f\"{item} taken. !!! Continue !!\")\n",
    "                del current_room['item']\n",
    "                \n",
    "            else: \n",
    "                print(f\"Cannot take{item}\")\n",
    "                \n",
    "         \n",
    "        if 'item' in current_room and current_room['item'] == 'Monster':\n",
    "            \n",
    "            if 'key' in inventory and 'potion' in inventory:\n",
    "                print(\"You defeted the Monster coz You had Potion and Key. You are safe. Continue. \")\n",
    "                del current_room[item]\n",
    "                \n",
    "            else:\n",
    "                print(\"Monster got you, You Died!!! GAME OVER. Wasted !!!! \")\n",
    "                break\n",
    "        \n",
    "        if current_room == room[\"Garden\"] and 'key' in inventory and 'potion' in inventory:\n",
    "            print(\"Congrats. You are in the Garden, You won. Get lost now !!! \")\n",
    "            break\n",
    "            \n",
    "            \n",
    "            \n",
    "\n",
    "play_game()"
   ]
  },
  {
   "cell_type": "code",
   "execution_count": 7,
   "id": "b732113e",
   "metadata": {},
   "outputs": [
    {
     "name": "stdout",
     "output_type": "stream",
     "text": [
      "Enter the Number: 5\n",
      "120\n"
     ]
    }
   ],
   "source": [
    "#Factorial Using Recursion: \n",
    "\n",
    "\n",
    "def Calculate_factorial(x):\n",
    "    if x == 0 or x == 1:\n",
    "        return 1\n",
    "    else:\n",
    "        return x * Calculate_factorial(x-1)\n",
    "        \n",
    "        \n",
    "x = int(input(\"Enter the Number: \"))\n",
    "\n",
    "ans = Calculate_factorial(x)\n",
    "print(ans)\n",
    "        "
   ]
  },
  {
   "cell_type": "code",
   "execution_count": 6,
   "id": "42449b47",
   "metadata": {},
   "outputs": [
    {
     "data": {
      "text/plain": [
       "120"
      ]
     },
     "execution_count": 6,
     "metadata": {},
     "output_type": "execute_result"
    }
   ],
   "source": [
    "#Factorial using Loops\n",
    "\n",
    "\n",
    "def factorial(n):\n",
    "    result = 1 \n",
    "    for i in range(2, n + 1):\n",
    "           result *= i\n",
    "    return result\n",
    "factorial(5)"
   ]
  }
 ],
 "metadata": {
  "kernelspec": {
   "display_name": "Python 3 (ipykernel)",
   "language": "python",
   "name": "python3"
  },
  "language_info": {
   "codemirror_mode": {
    "name": "ipython",
    "version": 3
   },
   "file_extension": ".py",
   "mimetype": "text/x-python",
   "name": "python",
   "nbconvert_exporter": "python",
   "pygments_lexer": "ipython3",
   "version": "3.11.4"
  }
 },
 "nbformat": 4,
 "nbformat_minor": 5
}
